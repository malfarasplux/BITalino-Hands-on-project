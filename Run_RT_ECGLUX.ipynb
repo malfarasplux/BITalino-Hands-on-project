{
 "cells": [
  {
   "cell_type": "markdown",
   "metadata": {},
   "source": [
    "# Run ECG-LUX RealTime\n",
    "1 - Import bitalino, numpy, pylab and time python libraries"
   ]
  },
  {
   "cell_type": "code",
   "execution_count": 1,
   "metadata": {
    "collapsed": true
   },
   "outputs": [],
   "source": [
    "import bitalino\n",
    "import numpy as np\n",
    "import time\n",
    "from pylab import *\n",
    "%matplotlib inline"
   ]
  },
  {
   "cell_type": "markdown",
   "metadata": {},
   "source": [
    "2 - Input your device's MAC address and wait 1 second"
   ]
  },
  {
   "cell_type": "code",
   "execution_count": null,
   "metadata": {},
   "outputs": [],
   "source": [
    "#Set MAC (Windows)\n",
    "macAddress = \"20:17:09:18:46:98\"\n",
    "device = bitalino.BITalino(macAddress)\n",
    "time.sleep(1)"
   ]
  },
  {
   "cell_type": "markdown",
   "metadata": {},
   "source": [
    "3 - Set parameters for the biosignal acquisition:\n",
    "     Sampling rate (srate), Number of frames (nframes)"
   ]
  },
  {
   "cell_type": "code",
   "execution_count": 3,
   "metadata": {
    "collapsed": true
   },
   "outputs": [],
   "source": [
    "#Biosignal acquisition parameters\n",
    "srate = 100\n",
    "nframes = 300"
   ]
  },
  {
   "cell_type": "markdown",
   "metadata": {},
   "source": [
    "4 - Set parameters for signal processing"
   ]
  },
  {
   "cell_type": "code",
   "execution_count": 4,
   "metadata": {
    "collapsed": true
   },
   "outputs": [],
   "source": [
    "#Processing parameters\n",
    "luxthreshold = 10\n",
    "winsize = 300\n",
    "drange = np.arange(winsize)\n",
    "slwin = 3\n",
    "pwinrange = 10\n",
    "pwin = np.arange(-pwinrange,pwinrange,1)\n",
    "hbfactor = 2.5\n",
    "p2pfactor = 5\n",
    "bpmthreshold = 70"
   ]
  },
  {
   "cell_type": "markdown",
   "metadata": {},
   "source": [
    "5 - Define smooth moving average function"
   ]
  },
  {
   "cell_type": "code",
   "execution_count": 5,
   "metadata": {
    "collapsed": true
   },
   "outputs": [],
   "source": [
    "#Moving average\n",
    "def slideMean(x, N):\n",
    "    return np.convolve(x, np.ones((N,))/N)[(N-1):]"
   ]
  },
  {
   "cell_type": "markdown",
   "metadata": {},
   "source": [
    "6 - Start  a continuous acquisiton using only ECG and LUX analog channels"
   ]
  },
  {
   "cell_type": "code",
   "execution_count": null,
   "metadata": {},
   "outputs": [],
   "source": [
    "device.start(srate, [1,5])\n",
    "print (\"START\")"
   ]
  },
  {
   "cell_type": "markdown",
   "metadata": {},
   "source": [
    "7 - Get the first seconds warmup, run an acquistion reading nframes and perform the following actions:\n",
    "\n",
    "    a. Stop when pressing the button for a while\n",
    "    b. Check the light level, if bright:\n",
    "        b1. Launch LED light sequence\n",
    "        b2. Estimate beats per minute (bpm) and apply threshold\n",
    "        b3. If greater than bpm threshold set alarm (longer LED sequence / buzzer / pwm)"
   ]
  },
  {
   "cell_type": "code",
   "execution_count": null,
   "metadata": {},
   "outputs": [],
   "source": [
    "#Warmup data collection (initialise)\n",
    "data = device.read(nframes)\n",
    "ECG0=[]\n",
    "ECG0 = np.append(ECG0,data[:, -2])\n",
    "data = device.read(nframes)\n",
    "ECG0 = np.append(ECG0,data[:, -2])\n",
    "data = device.read(nframes)\n",
    "ECG0 = np.append(ECG0,data[:, -2])\n",
    "\n",
    "#Loop execution\n",
    "ECG = ECG0\n",
    "try:\n",
    "    while True:\n",
    "\n",
    "        #Read data\n",
    "        data = device.read(nframes)\n",
    "        \n",
    "        #Check button\n",
    "        if np.mean(data[:, 1]) < 1: break\n",
    "\n",
    "        LUX = data[:, -1]\n",
    "        ECG = np.append(ECG[nframes:],data[:, -2])        \n",
    "        \n",
    "        #Thresholding LUX average \n",
    "        luxmean = np.mean(abs((LUX)))\n",
    "        if luxmean < luxthreshold:\n",
    "            #Starting LED sequence\n",
    "            device.trigger([1, 0])\n",
    "            device.trigger([0, 0])\n",
    "            device.trigger([1, 0])\n",
    "            device.trigger([0, 0])\n",
    "\n",
    "            #Estimate hr\n",
    "            hrd = -1 \n",
    "            conv = slideMean(ECG,slwin)\n",
    "            lconv = len(conv)\n",
    "            conv = conv[slwin:lconv-slwin]\n",
    "            ECG_absdiff = abs(conv)\n",
    "                \n",
    "            ### First derivative\n",
    "            conv1 = np.diff(conv)\n",
    "            \n",
    "            ### Second derivative\n",
    "            conv2 = np.diff(conv1)\n",
    "            data = conv2\n",
    "            \n",
    "            #Get peaks using second derivative and std\n",
    "            dstd = np.std(data)\n",
    "            peaks = np.where(abs(data) > hbfactor*dstd)[0]\n",
    "            \n",
    "            #Avoid neighbours pointing to the same peak\n",
    "            dpeaks = np.diff(peaks)\n",
    "            ipeaks = np.append(True, (dpeaks > 20))\n",
    "            rpeaks = peaks[ipeaks]\n",
    "            rpeaks0 = rpeaks\n",
    "                \n",
    "            #Peak to peak range to confirm\n",
    "            is_peak = np.zeros((len(rpeaks)), dtype=bool)\n",
    "            for j in xrange(0,len(rpeaks)):\n",
    "                pwin_i = pwin + rpeaks[j]\n",
    "                pwin_i = np.intersect1d(pwin_i[(pwin_i >= 0)],pwin_i[(pwin_i < len(data))])\n",
    "                p2p = np.ptp(data[pwin_i])\n",
    "                if (p2p > p2pfactor*dstd):\n",
    "                    is_peak[j]=True      \n",
    "            rpeaks=rpeaks[is_peak]\n",
    "                \n",
    "            #Compute hr(bpm)\n",
    "            s0 = size(rpeaks0) \n",
    "            s = size(rpeaks)\n",
    "            if s > 1:\n",
    "                hrd = (rpeaks[-1]-rpeaks[0])\n",
    "                hrt = 1.0/(s-1) * hrd * 1.0/srate\n",
    "                hr = 60.0 / hrt\n",
    "                if hr > bpmthreshold:\n",
    "                    #Alarm ==> BUZ + Conclude LED sequence (longer)\n",
    "                    device.trigger([1, 1])\n",
    "                    device.trigger([0, 0])\n",
    "                    device.trigger([1, 0])\n",
    "                    device.trigger([0, 0])\n",
    "                    device.trigger([1, 0])\n",
    "                    device.trigger([0, 0])\n",
    "                    \n",
    "                else:\n",
    "                    #No Alarm ==> Conclude LED sequence\n",
    "                    device.trigger([1, 0])\n",
    "                    device.trigger([0, 0])\n",
    "                    \n",
    "            else:\n",
    "                hr = -1\n",
    "\n",
    "        else:\n",
    "            #Turn LED off\n",
    "            device.trigger([0, 0])\n",
    "finally:\n",
    "    device.trigger([0, 0])\n",
    "    print \"STOP\"\n",
    "    device.stop()"
   ]
  },
  {
   "cell_type": "markdown",
   "metadata": {},
   "source": [
    "8 - Close device"
   ]
  },
  {
   "cell_type": "code",
   "execution_count": null,
   "metadata": {},
   "outputs": [],
   "source": [
    "device.close()"
   ]
  },
  {
   "cell_type": "code",
   "execution_count": null,
   "metadata": {
    "collapsed": true
   },
   "outputs": [],
   "source": []
  },
  {
   "cell_type": "code",
   "execution_count": null,
   "metadata": {
    "collapsed": true
   },
   "outputs": [],
   "source": []
  },
  {
   "cell_type": "code",
   "execution_count": null,
   "metadata": {
    "collapsed": true
   },
   "outputs": [],
   "source": []
  },
  {
   "cell_type": "code",
   "execution_count": null,
   "metadata": {
    "collapsed": true
   },
   "outputs": [],
   "source": [
    "data = loadtxt(\"ECG_LUX_handson.txt\")"
   ]
  },
  {
   "cell_type": "code",
   "execution_count": null,
   "metadata": {
    "collapsed": true
   },
   "outputs": [],
   "source": [
    "ECG = np.array(data[:,5])\n",
    "LUX = np.array(data[:,6])\n",
    "fig = plt.figure()\n",
    "ax = fig.add_subplot(111)\n",
    "fig.subplots_adjust(top=0.85)\n",
    "ax.set_title('Raw ECG signal')\n",
    "ax.set_xlabel('Sample')\n",
    "ax.set_ylabel('Val')\n",
    "plot(ECG[drange],'#d21959')\n"
   ]
  },
  {
   "cell_type": "code",
   "execution_count": null,
   "metadata": {
    "collapsed": true
   },
   "outputs": [],
   "source": []
  }
 ],
 "metadata": {
  "kernelspec": {
   "display_name": "Python 2",
   "language": "python",
   "name": "python2"
  },
  "language_info": {
   "codemirror_mode": {
    "name": "ipython",
    "version": 2
   },
   "file_extension": ".py",
   "mimetype": "text/x-python",
   "name": "python",
   "nbconvert_exporter": "python",
   "pygments_lexer": "ipython2",
   "version": "2.7.13"
  }
 },
 "nbformat": 4,
 "nbformat_minor": 2
}
